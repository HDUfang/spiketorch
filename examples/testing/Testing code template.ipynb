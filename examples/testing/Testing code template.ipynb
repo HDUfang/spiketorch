{
 "cells": [
  {
   "cell_type": "markdown",
   "metadata": {},
   "source": [
    "# Testing code using unittest module in Python\n",
    "\n",
    "This will serve as a __template__ that hopefully everyone can use to test various parts of this platform and will be a brief tutorial on unittest module in python. This is based on some tutorials as well as some other exercises that I've tested using unittest. This is very important for big projects as updating a piece of code can break other parts of the code base and these test cases will catch that. \n",
    "\n",
    "For those interested, I recommend this [video](https://www.youtube.com/watch?v=6tNS--WetLI) to learn the basics of [unittest](https://docs.python.org/3/library/unittest.html). \n",
    "\n",
    "Unittest is native to python therefore, you can simply import without downloading any extra packages. \n",
    "\n",
    "In __spiketorch/examples/testing__, you will find __demo.py__ and __demo_tests.py__ which are the files being explained here. I will be using snippits of code from there and explaining their purpose here.  \n",
    "\n",
    "Here are the [unittest assert methods](https://docs.python.org/3/library/unittest.html#unittest.TestCase.debug) that are useful in comparing results at the end of every test function. \n",
    "\n",
    "__Disclaimer:__ Code is not runnable since unittest.main() runs the tests on its own. The examples are simply for visual aid. If there is confusion at any point, please visit the files mentioned above as the examples are commented. "
   ]
  },
  {
   "cell_type": "markdown",
   "metadata": {},
   "source": [
    "## Imports\n",
    "\n",
    "First, import unittest and the rest of the imports are used for the examples below."
   ]
  },
  {
   "cell_type": "code",
   "execution_count": 1,
   "metadata": {},
   "outputs": [],
   "source": [
    "import unittest\n",
    "import numpy as np\n",
    "import unittest\n",
    "import sys\n",
    "%load_ext autoreload\n",
    "%autoreload 2"
   ]
  },
  {
   "cell_type": "markdown",
   "metadata": {},
   "source": [
    "Create a class (giving descriptive title to classes helps) and inherit __unittest.TestCase__. This will allow us to use different testing capabilities within that class. \n",
    "\n",
    "__Important:__ Every test will be in the form of a function and must always start with \"test\" otherwise unittest.main() will not run the test function you created. A standard naming convention for test functions is __\"test_whatever_you_are_testing()\"__. Since every test function is a method inside of the class, it's first argument must be __self__ as always.\n",
    "\n",
    "\n",
    "The number of tests that will run is equal to the number of functions beginning with \"test\". It is __NOT__ the number of times you call an assert method inside of a test function."
   ]
  },
  {
   "cell_type": "markdown",
   "metadata": {},
   "source": [
    "## Test structure conventions"
   ]
  },
  {
   "cell_type": "code",
   "execution_count": null,
   "metadata": {
    "collapsed": true
   },
   "outputs": [],
   "source": [
    "class TestClass(unittest.TestCase): # Good name for class\n",
    "    def test_addition(self): # Valid name for test\n",
    "        pass\n",
    "    \n",
    "    def addition_test(self): # incorrect name, names of tests MUST start with \"test\" \n",
    "        pass"
   ]
  },
  {
   "cell_type": "markdown",
   "metadata": {
    "collapsed": true
   },
   "source": [
    "A good way to structure all the tests would be to name one function \"test\" that calls all of the other test functions inside it. And then, you can write all of the test functions below it. Example shown below. "
   ]
  },
  {
   "cell_type": "code",
   "execution_count": null,
   "metadata": {
    "collapsed": true
   },
   "outputs": [],
   "source": [
    "class TestClass(unittest.TestCase):\n",
    "    \n",
    "    def test(self):\n",
    "        print(\"*********** Testing ***********\")\n",
    "        self._test1(function_name, test_name)\n",
    "        self._test2(function_name, test_name)\n",
    "        ...\n",
    "        \n",
    "    def _test1(self, function_name, test_name):\n",
    "        print(\"---- %s ----\"%test_name)\n",
    "        ...\n",
    "        ...\n",
    "        ..."
   ]
  },
  {
   "cell_type": "markdown",
   "metadata": {},
   "source": [
    "Since the rest of the functions start with '\\_' , they will not be called by _unittest.main()_. The \"check_load\" function is a general way of checking whether the file and the function you want to call exist or not. They will throw errors if file or function is not found. \n",
    "\n",
    "__Important:__ If an updated piece of code produces an error, it is important to then update the types of tests that are being conducted to also incorporate a test that can catch the particular error that was just produced by the code. "
   ]
  },
  {
   "cell_type": "markdown",
   "metadata": {
    "collapsed": true
   },
   "source": [
    "## Ways of importing file and function\n",
    "\n",
    "I have implemented check_load function that checks the existence of desired module and function and will throw error otherwise. It's an elegant way of implementing it (shown below). There will be an example below that uses this function to load file and function which should clear up points of confusion (if there are any)."
   ]
  },
  {
   "cell_type": "code",
   "execution_count": null,
   "metadata": {
    "collapsed": true
   },
   "outputs": [],
   "source": [
    "def check_load(filename,fun_name):\n",
    "    \"\"\"\n",
    "    A wrapper function to load modules and functions to test. Produces error \n",
    "    if file or function is not found.\n",
    "    \n",
    "    Inputs: -> Filename that contains the functions we want to call without the \".py\" extensions\n",
    "            -> Function name that is inside filename that we want to call\n",
    "            \n",
    "    Output: -> Desired function is returned\n",
    "    \"\"\"\n",
    "    try:\n",
    "        #Importing the file source code\n",
    "        user_module = __import__(filename) \n",
    "    except ModuleNotFoundError: \n",
    "        print(\"%s FILE NOT FOUND\"%filename)\n",
    "        return None\n",
    "    \n",
    "    \"\"\"\n",
    "     Everything in python is an object and importing this way will make it so that \n",
    "     user_module has a __dict__ which is a dictionary that contains all of the \n",
    "     relevant information about filename in it including the desired function\n",
    "    \"\"\"\n",
    "    if hasattr(user_module,fun_name) and callable(user_module.__dict__[fun_name]):\n",
    "        print(\"%s was succesfully loaded\"%fun_name)\n",
    "        return user_module.__dict__[fun_name] #return the function pointer for usage\n",
    "    else: #did not find the function\n",
    "        print(\"%s is not defined\"%fun_name)\n",
    "        return None"
   ]
  },
  {
   "cell_type": "code",
   "execution_count": null,
   "metadata": {
    "collapsed": true
   },
   "outputs": [],
   "source": [
    "from demo import gauss_jordan #a simple import statement will work as well"
   ]
  },
  {
   "cell_type": "markdown",
   "metadata": {},
   "source": [
    "Having __unittest.main()__ this way allows for an interface between the IDE and command line. Normally, you would have to run command on the cmd using -m flag. For example, to run my test file I would run: \"python -m unittest demo_tests.py\""
   ]
  },
  {
   "cell_type": "code",
   "execution_count": null,
   "metadata": {
    "collapsed": true
   },
   "outputs": [],
   "source": [
    "if __name__==\"__main__\":\n",
    "    unittest.main() # used primarily for command line"
   ]
  },
  {
   "cell_type": "markdown",
   "metadata": {},
   "source": [
    "## More useful functions \n",
    "\n",
    "If in every test case you see youself performing the same line of code, that can be reduced for a cleaner set of test functions. There are two methods that I will mention, [setUp()](https://docs.python.org/3.4/library/unittest.html#unittest.TestCase.setUp) which the testing framework will automatically call for every single test we run and [tearDown()](https://docs.python.org/3.4/library/unittest.html#unittest.TestCase.tearDown) method that tidies up after the test method has been run. This means these methods will be called for every single test FUNCTION that we create. \n",
    "\n",
    "__Important:__ Since we are no longer creating instances of variables in every test function, the variables we create in setUp() must use __self__ to be part of the class so that they can be used in the rest of the test functions. \n",
    "\n",
    "Another important thing here is that in order to have one piece of code run __once before__ any tests and __once after__ all the tests have finishes, we need to use class methods. Here is another [video](https://www.youtube.com/watch?v=rq8cL2XMM5M) that explains class methods which might be helpful. Otherwise, the example I'm showing should suffice.  "
   ]
  },
  {
   "cell_type": "code",
   "execution_count": null,
   "metadata": {},
   "outputs": [],
   "source": [
    "class TestClass(unittest.TestCase): \n",
    "    def setUp(self):\n",
    "        \"\"\"\n",
    "        Place repeated code here to run for every single test function\n",
    "        \"\"\"\n",
    "        print('setUp')\n",
    "    \n",
    "    def tearDown(self):\n",
    "        \"\"\"\n",
    "        This will run after every test function finishes executing\n",
    "        \"\"\"\n",
    "        print('tearDown\\n')\n",
    "\n",
    "    @classmethod\n",
    "    def setUpClass(cls):\n",
    "        print('setUpClass\\n')\n",
    "    \n",
    "    @classmethod\n",
    "    def tearDownClass(cls):\n",
    "        print('tearDownClass')\n",
    "        \n",
    "    #TEST FUNCTIONS\n",
    "    def test_1(self):\n",
    "        print('test1')\n",
    "    \n",
    "    def test_2(self):\n",
    "        print('test2')\n",
    "\n",
    "if __name__ == '__main__':\n",
    "    unittest.main(argv=['first-arg-is-ignored'], exit=False)\n",
    "        "
   ]
  },
  {
   "cell_type": "markdown",
   "metadata": {},
   "source": [
    "[setUpClass](https://docs.python.org/3/library/unittest.html#unittest.TestCase.setUpClass) will be very useful in our cases since we can initialize the entire network once. An example given below.\n",
    "\n",
    "We could introduce functions that completely reset the entire network which could be used inside tearDown() for a more efficient test suite."
   ]
  },
  {
   "cell_type": "code",
   "execution_count": null,
   "metadata": {},
   "outputs": [],
   "source": [
    "@classmethod\n",
    "    def setUpClass(cls):\n",
    "        timesteps = 500\n",
    "        n_inpt = 100\n",
    "        n_excitatory = 100\n",
    "\n",
    "        p_fire = 0.05\n",
    "        \n",
    "        network = Network(dt=1)  # timestep of 1ms\n",
    "\n",
    "        # Neuron groups.\n",
    "        network.add_group(InputGroup(n_inpt), 'input')\n",
    "        network.add_group(LIFGroup(n_excitatory), 'population')\n",
    "\n",
    "        # Synaptic connections.\n",
    "        w = torch.randn(n_inpt, n_excitatory)\n",
    "        network.add_synapses(Synapses(network.groups['input'], network.groups['population'],\n",
    "                                                        w=w), name=('input', 'population'))\n",
    "\n",
    "        # Create random inputs for `timesteps`.\n",
    "        inpt = np.random.binomial(2, p_fire, size=[timesteps, n_inpt])\n",
    "        inpt = torch.from_numpy(inpt)\n",
    "        inpts = {'input' : inpt}\n",
    "    \n",
    "    def setUp(self):\n",
    "        \"\"\"\n",
    "        Make necessary changes to the network before this particular test\n",
    "        \"\"\"\n",
    "        pass\n",
    "        \n",
    "    def tearDown(self):\n",
    "        \"\"\"\n",
    "        Reset the network to its original settings in order to not have to redefine the network for every test\n",
    "        \"\"\"\n",
    "        pass\n",
    "    \n",
    "    @classmethod\n",
    "    def tearDown(cls):\n",
    "        \"\"\"\n",
    "        We could accumulate all the results in one array defined for the class and output the final results here\n",
    "        as well as some other info\n",
    "        \"\"\"\n",
    "        pass"
   ]
  },
  {
   "cell_type": "markdown",
   "metadata": {},
   "source": [
    "## Example(s)\n",
    "\n",
    "I'm working with a gauss_jordan function that is implemented and is in need of testing with different inputs. This will sufficiently demonstrate the idea behind unittest and the way of structuring the test that is useful for bigger projects. You will find \"__gauss_jordan__\" function inside __demo.py__. It simply takes a matrix and inverts is. If the inverse does not exist, it will return None."
   ]
  },
  {
   "cell_type": "code",
   "execution_count": 3,
   "metadata": {},
   "outputs": [],
   "source": [
    "def check_load(filename,fun_name):\n",
    "    try:\n",
    "        #Importing the file source code\n",
    "        user_module = __import__(filename) \n",
    "    except ModuleNotFoundError: \n",
    "        print(\"%s FILE NOT FOUND\"%filename)\n",
    "        return None\n",
    "    \n",
    "    if hasattr(user_module,fun_name) and callable(user_module.__dict__[fun_name]):\n",
    "        print(\"%s was succesfully loaded\"%fun_name)\n",
    "        return user_module.__dict__[fun_name] #return the function pointer for usage\n",
    "    else: #did not find the function\n",
    "        print(\"%s is not defined\"%fun_name)\n",
    "        return None\n",
    "\n",
    "class TestGaussJordan(unittest.TestCase):\n",
    "    fn = \"demo\"\n",
    "    \n",
    "    def test(self):\n",
    "        print(\"*********** Testing gauss_jordan ***********\")\n",
    "        gauss_jordan = check_load(self.fn,\"gauss_jordan\")\n",
    "        self._test1(gauss_jordan,\"test 1\")\n",
    "        self._test2(gauss_jordan,\"test 2\")\n",
    "        self._test_non_invertable(gauss_jordan,\"test non-invertible\")\n",
    "    \n",
    "    def _test1(self,gauss_jordan,test_name):\n",
    "        print(\"---- %s ----\"%test_name)\n",
    "        A = np.array([[1,3],[2,5]])\n",
    "        A_inv = np.array([[-5,3],[2,-1]])\n",
    "        got = gauss_jordan(A)\n",
    "        print(\"input:\")\n",
    "        print(A)\n",
    "        print(\"expected:\")\n",
    "        print(A_inv)\n",
    "        print(\"got:\")\n",
    "        print(got)\n",
    "\n",
    "        if np.all(np.isclose(got,A_inv)):\n",
    "            print(\"result: Correct\\n\")\n",
    "        else:\n",
    "            print(\"result: Incorrect!\\n\")\n",
    "        \n",
    "    def test4(self):\n",
    "        from demo import gauss_jordan\n",
    "        A = np.array([[1,3],[2,5]])\n",
    "        A_inv = np.array([[-5,3],[2,-1]])\n",
    "        got = gauss_jordan(A)\n",
    "        print(\"input:\")\n",
    "        print(A)\n",
    "        print(\"expected:\")\n",
    "        print(A_inv)\n",
    "        print(\"got:\")\n",
    "        print(got)\n",
    "    \n",
    "        if np.all(np.isclose(got,A_inv)):\n",
    "            print(\"result: Correct\\n\")\n",
    "        else:\n",
    "            print(\"result: Incorrect!\\n\")\n",
    "            \n",
    "    def _test2(self,gauss_jordan,test_name):\n",
    "        print(\"---- %s ----\"%test_name)\n",
    "        A = np.array([[2,3,0],[1,-2,-1],[2,0,-1]])\n",
    "        A_inv = np.array([[2,3,-3],[-1,-2,2],[4,6,-7]])\n",
    "        got = gauss_jordan(A)\n",
    "        print(\"input:\")\n",
    "        print(A)\n",
    "        print(\"expected:\")\n",
    "        print(A_inv)\n",
    "        print(\"got:\")\n",
    "        print(got)\n",
    "\n",
    "        if np.all(np.isclose(got,A_inv)):\n",
    "            print(\"result: Correct\\n\")\n",
    "        else:\n",
    "            print(\"result: Incorrect!\\n\")\n",
    "        \n",
    "    def _test_non_invertable(self,gauss_jordan,test_name):\n",
    "        \"\"\"\n",
    "            A non-invertible example.\n",
    "        \"\"\"\n",
    "        print(\"---- %s ----\"%test_name)\n",
    "        A = np.array([[2,3,0],[1,-2,-1],[2,-4,-2]])\n",
    "        got = gauss_jordan(A)\n",
    "        print(\"input:\")\n",
    "        print(A)\n",
    "        print(\"expected:\")\n",
    "        print(None)\n",
    "        print(\"got:\")\n",
    "        print(got)\n",
    "\n",
    "        if got is None:\n",
    "            print(\"result: Correct\\n\")\n",
    "        else:\n",
    "            print(\"result: Incorrect!\\n\")"
   ]
  },
  {
   "cell_type": "markdown",
   "metadata": {},
   "source": [
    "Running __demo_tests.py__ will produce the  output shown below. This unittest.main seems different because unittest.main looks at sys.argv by default, which is what started IPython, hence the error about the kernel connection file not being a valid attribute. You can pass an explicit list to main to avoid looking up sys.argv. [Source](https://stackoverflow.com/questions/37895781/unable-to-run-unittests-main-function-in-ipython-jupyter-notebook). This is only a problm for jupyter. In your personal IDE, it would simply be __unittest.main()__ as before and as it is in the example code."
   ]
  },
  {
   "cell_type": "code",
   "execution_count": 4,
   "metadata": {},
   "outputs": [
    {
     "name": "stderr",
     "output_type": "stream",
     "text": [
      ".."
     ]
    },
    {
     "name": "stdout",
     "output_type": "stream",
     "text": [
      "*********** Testing gauss_jordan ***********\n",
      "gauss_jordan was succesfully loaded\n",
      "---- test 1 ----\n",
      "input:\n",
      "[[1 3]\n",
      " [2 5]]\n",
      "expected:\n",
      "[[-5  3]\n",
      " [ 2 -1]]\n",
      "got:\n",
      "[[-5.  3.]\n",
      " [ 2. -1.]]\n",
      "result: Correct\n",
      "\n",
      "---- test 2 ----\n",
      "input:\n",
      "[[ 2  3  0]\n",
      " [ 1 -2 -1]\n",
      " [ 2  0 -1]]\n",
      "expected:\n",
      "[[ 2  3 -3]\n",
      " [-1 -2  2]\n",
      " [ 4  6 -7]]\n",
      "got:\n",
      "[[ 2.  3. -3.]\n",
      " [-1. -2.  2.]\n",
      " [ 4.  6. -7.]]\n",
      "result: Correct\n",
      "\n",
      "---- test non-invertible ----\n",
      "input:\n",
      "[[ 2  3  0]\n",
      " [ 1 -2 -1]\n",
      " [ 2 -4 -2]]\n",
      "expected:\n",
      "None\n",
      "got:\n",
      "None\n",
      "result: Correct\n",
      "\n",
      "input:\n",
      "[[1 3]\n",
      " [2 5]]\n",
      "expected:\n",
      "[[-5  3]\n",
      " [ 2 -1]]\n",
      "got:\n",
      "[[-5.  3.]\n",
      " [ 2. -1.]]\n",
      "result: Correct\n",
      "\n"
     ]
    },
    {
     "name": "stderr",
     "output_type": "stream",
     "text": [
      "\n",
      "----------------------------------------------------------------------\n",
      "Ran 2 tests in 0.034s\n",
      "\n",
      "OK\n"
     ]
    }
   ],
   "source": [
    "\n",
    "if __name__ == '__main__':\n",
    "    unittest.main(argv=['first-arg-is-ignored'], exit=False)"
   ]
  },
  {
   "cell_type": "markdown",
   "metadata": {},
   "source": [
    "### A quicker way to do the same type of tests"
   ]
  },
  {
   "cell_type": "code",
   "execution_count": 2,
   "metadata": {},
   "outputs": [
    {
     "name": "stderr",
     "output_type": "stream",
     "text": [
      "."
     ]
    },
    {
     "name": "stdout",
     "output_type": "stream",
     "text": [
      "*********** Testing gauss_jordan ***********\n",
      "input:\n",
      "[[1 3]\n",
      " [2 5]]\n",
      "expected:\n",
      "[[-5  3]\n",
      " [ 2 -1]]\n",
      "got:\n",
      "[[-5.  3.]\n",
      " [ 2. -1.]]\n",
      "result: Correct\n",
      "\n"
     ]
    },
    {
     "name": "stderr",
     "output_type": "stream",
     "text": [
      "\n",
      "----------------------------------------------------------------------\n",
      "Ran 1 test in 0.012s\n",
      "\n",
      "OK\n"
     ]
    }
   ],
   "source": [
    "class TestGaussJordan(unittest.TestCase):\n",
    "    def test(self):\n",
    "        print(\"*********** Testing gauss_jordan ***********\")\n",
    "        from demo import gauss_jordan #importing necessary function \n",
    "        A = np.array([[1,3],[2,5]])\n",
    "        A_inv = np.array([[-5,3],[2,-1]])\n",
    "        got = gauss_jordan(A)\n",
    "        print(\"input:\")\n",
    "        print(A)\n",
    "        print(\"expected:\")\n",
    "        print(A_inv)\n",
    "        print(\"got:\")\n",
    "        print(got)\n",
    "    \n",
    "        if np.all(np.isclose(got,A_inv)):\n",
    "            print(\"result: Correct\\n\")\n",
    "        else:\n",
    "            print(\"result: Incorrect!\\n\")\n",
    "\n",
    "if __name__ == '__main__':\n",
    "    unittest.main(argv=['first-arg-is-ignored'], exit=False)"
   ]
  },
  {
   "cell_type": "markdown",
   "metadata": {},
   "source": [
    "This was a brief introduction to unittest followed by examples to demonstrate usage. Again, the code used here is inside __spiketorch/examples/testing/demo.py__ and __demo_tests.py__. "
   ]
  },
  {
   "cell_type": "code",
   "execution_count": null,
   "metadata": {
    "collapsed": true
   },
   "outputs": [],
   "source": []
  }
 ],
 "metadata": {
  "kernelspec": {
   "display_name": "Python 3",
   "language": "python",
   "name": "python3"
  },
  "language_info": {
   "codemirror_mode": {
    "name": "ipython",
    "version": 3
   },
   "file_extension": ".py",
   "mimetype": "text/x-python",
   "name": "python",
   "nbconvert_exporter": "python",
   "pygments_lexer": "ipython3",
   "version": "3.6.1"
  }
 },
 "nbformat": 4,
 "nbformat_minor": 2
}
